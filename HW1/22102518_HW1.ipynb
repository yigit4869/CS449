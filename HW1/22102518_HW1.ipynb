{
 "cells": [
  {
   "cell_type": "code",
   "execution_count": 9,
   "id": "71ee4837-a02b-4406-a677-f2b317ec5d9f",
   "metadata": {},
   "outputs": [],
   "source": [
    "import robotic as ry\n",
    "import numpy as np"
   ]
  },
  {
   "cell_type": "markdown",
   "id": "53ce38e1-f910-4744-9a81-1dacaff7c9a1",
   "metadata": {},
   "source": [
    "### PART A"
   ]
  },
  {
   "cell_type": "code",
   "execution_count": 10,
   "id": "3d4733d1-f173-486b-94c4-20d784f895bd",
   "metadata": {},
   "outputs": [
    {
     "data": {
      "text/plain": [
       "<robotic._robotic.Frame at 0x7f5084c230f0>"
      ]
     },
     "execution_count": 10,
     "metadata": {},
     "output_type": "execute_result"
    }
   ],
   "source": [
    "C = ry.Config()\n",
    "\n",
    "C.addFile(ry.raiPath(\"../rai-robotModels/objects/kitchen.g\"))\n"
   ]
  },
  {
   "cell_type": "code",
   "execution_count": 11,
   "id": "08bd3efb-4209-4ee4-ac0a-1a3dbbb1377f",
   "metadata": {},
   "outputs": [
    {
     "data": {
      "text/plain": [
       "0"
      ]
     },
     "execution_count": 11,
     "metadata": {},
     "output_type": "execute_result"
    }
   ],
   "source": [
    "C.view()"
   ]
  },
  {
   "cell_type": "code",
   "execution_count": 12,
   "id": "13835b08-4d49-4de0-9f15-df70f571e2ab",
   "metadata": {},
   "outputs": [
    {
     "data": {
      "text/plain": [
       "<robotic._robotic.Frame at 0x7f504196f0b0>"
      ]
     },
     "execution_count": 12,
     "metadata": {},
     "output_type": "execute_result"
    }
   ],
   "source": [
    "hammer_handle = C.addFrame(name=\"hammer_handle\", parent=\"sink1\")\n",
    "hammer_handle.setShape(ry.ST.ssBox, size=[0.3, 0.05, 0.03, 0.005])\n",
    "hammer_handle.setRelativePosition([0.1, 0.1, 0.415])\n",
    "hammer_handle.setColor([0.65, 0.50, 0.39])\n",
    "\n"
   ]
  },
  {
   "cell_type": "code",
   "execution_count": 13,
   "id": "762ba873-a604-43ac-9b01-065981ad4fa0",
   "metadata": {},
   "outputs": [
    {
     "data": {
      "text/plain": [
       "<robotic._robotic.Frame at 0x7f5084c23530>"
      ]
     },
     "execution_count": 13,
     "metadata": {},
     "output_type": "execute_result"
    }
   ],
   "source": [
    "hammer_head = C.addFrame(name=\"hammer_head\", parent=\"hammer_handle\")\n",
    "hammer_head.setShape(ry.ST.ssBox, size=[0.1, 0.05, 0.03, 0.005])\n",
    "hammer_head.setRelativePosition([0.125, 0.0, 0.0])\n",
    "hammer_head.setColor([0.55, 0.57, 0.58])\n",
    "hammer_head.setQuaternion([1, 0, 0.0, 1])\n"
   ]
  },
  {
   "cell_type": "code",
   "execution_count": 14,
   "id": "4f7dc1d2-0f6c-4dea-8f54-aea1fdad0b51",
   "metadata": {},
   "outputs": [
    {
     "data": {
      "text/plain": [
       "0"
      ]
     },
     "execution_count": 14,
     "metadata": {},
     "output_type": "execute_result"
    }
   ],
   "source": [
    "C.view()"
   ]
  },
  {
   "cell_type": "code",
   "execution_count": 22,
   "id": "dc1501e8-37d0-43b1-b18d-aa36075e3fb6",
   "metadata": {},
   "outputs": [
    {
     "data": {
      "text/plain": [
       "<robotic._robotic.Frame at 0x7f500c755870>"
      ]
     },
     "execution_count": 22,
     "metadata": {},
     "output_type": "execute_result"
    }
   ],
   "source": [
    "mug = C.addFrame(name=\"mug\", parent=\"sink1\")\n",
    "mug.setShape(ry.ST.ssBox, size=[0.05, 0.05, 0.2, .01])\n",
    "mug.setRelativePosition([-0.1, -0.1, 0.5])\n",
    "mug.setColor([0.2, 0.2, 0.2])"
   ]
  },
  {
   "cell_type": "code",
   "execution_count": 23,
   "id": "924280ce-6abb-45b1-adc5-95092d51b1f7",
   "metadata": {},
   "outputs": [
    {
     "data": {
      "text/plain": [
       "0"
      ]
     },
     "execution_count": 23,
     "metadata": {},
     "output_type": "execute_result"
    }
   ],
   "source": [
    "C.view()"
   ]
  },
  {
   "cell_type": "code",
   "execution_count": 53,
   "id": "8431cac9-40df-43e7-8b6e-be57c9468c1c",
   "metadata": {},
   "outputs": [
    {
     "name": "stdout",
     "output_type": "stream",
     "text": [
      "[ 1.9   -0.08   0.835]\n",
      "[0.32599068 0.         0.         0.94537298]\n"
     ]
    }
   ],
   "source": [
    "print(hammer_handle.getPosition())\n",
    "print(hammer_handle.getQuaternion()) # Part A"
   ]
  },
  {
   "cell_type": "markdown",
   "id": "495d037d-0452-4ac2-8f93-8a59257be4b0",
   "metadata": {},
   "source": [
    "### PART B "
   ]
  },
  {
   "cell_type": "code",
   "execution_count": 24,
   "id": "6f9808be-667f-407d-bbb9-0dc60e67ddaa",
   "metadata": {},
   "outputs": [
    {
     "name": "stdout",
     "output_type": "stream",
     "text": [
      "-- WARNING:kin.cpp:addFrame:193(-1) frame already exists! returning existing without modifications!\n"
     ]
    },
    {
     "data": {
      "text/plain": [
       "<robotic._robotic.Frame at 0x7f50418f4f30>"
      ]
     },
     "execution_count": 24,
     "metadata": {},
     "output_type": "execute_result"
    }
   ],
   "source": [
    "tray = C.addFrame(name=\"tray\", parent=\"stove1\")\n",
    "tray.setShape(ry.ST.ssBox, size= [0.2, 0.2, 0.05, 0.02])\n",
    "tray.setRelativePosition([0.0, 0.0, 0.42])\n",
    "tray.setColor([0.0, 1.0, 0.0])\n",
    "tray.setQuaternion([1, 0, 0.0, 0.5])"
   ]
  },
  {
   "cell_type": "code",
   "execution_count": 25,
   "id": "a797e373-0ea9-41eb-b5c3-518062e64dcc",
   "metadata": {},
   "outputs": [
    {
     "data": {
      "text/plain": [
       "0"
      ]
     },
     "execution_count": 25,
     "metadata": {},
     "output_type": "execute_result"
    }
   ],
   "source": [
    "C.view()"
   ]
  },
  {
   "cell_type": "markdown",
   "id": "7e15b537-674b-4bec-b625-1f304d9dc29a",
   "metadata": {},
   "source": [
    "### PART C"
   ]
  },
  {
   "cell_type": "markdown",
   "id": "0b61d864-e356-4fe4-9459-95257f4b2b7c",
   "metadata": {},
   "source": [
    "### State 1"
   ]
  },
  {
   "cell_type": "code",
   "execution_count": 26,
   "id": "82b30b1b-aacf-4f19-9e08-f331b6ae27ea",
   "metadata": {},
   "outputs": [
    {
     "data": {
      "text/plain": [
       "<robotic._robotic.Frame at 0x7f50418f4f30>"
      ]
     },
     "execution_count": 26,
     "metadata": {},
     "output_type": "execute_result"
    }
   ],
   "source": [
    "tray.setShape(ry.ST.ssBox, size= [0.4, 0.4, 0.05, 0.02])\n"
   ]
  },
  {
   "cell_type": "code",
   "execution_count": 27,
   "id": "709cf68a-e272-494b-9504-96cd5ff9f35a",
   "metadata": {},
   "outputs": [
    {
     "data": {
      "text/plain": [
       "array([0.5 , 2.  , 0.82])"
      ]
     },
     "execution_count": 27,
     "metadata": {},
     "output_type": "execute_result"
    }
   ],
   "source": [
    "tray.getPosition()"
   ]
  },
  {
   "cell_type": "code",
   "execution_count": 28,
   "id": "785f2c20-1960-4f83-bf7a-ea244d2359a8",
   "metadata": {},
   "outputs": [
    {
     "data": {
      "text/plain": [
       "<robotic._robotic.Frame at 0x7f500c755870>"
      ]
     },
     "execution_count": 28,
     "metadata": {},
     "output_type": "execute_result"
    }
   ],
   "source": [
    "mug.setPosition([0.5, 1.9, .94])"
   ]
  },
  {
   "cell_type": "code",
   "execution_count": 29,
   "id": "a2f026f7-22ec-4523-bef3-50ea3dbf5911",
   "metadata": {},
   "outputs": [
    {
     "data": {
      "text/plain": [
       "0"
      ]
     },
     "execution_count": 29,
     "metadata": {},
     "output_type": "execute_result"
    }
   ],
   "source": [
    "C.view()"
   ]
  },
  {
   "cell_type": "code",
   "execution_count": 17,
   "id": "b406ce46-526d-4018-bdc2-451a64167dd8",
   "metadata": {},
   "outputs": [
    {
     "data": {
      "text/plain": [
       "<robotic._robotic.Frame at 0x7f665728abf0>"
      ]
     },
     "execution_count": 17,
     "metadata": {},
     "output_type": "execute_result"
    }
   ],
   "source": [
    "hammer_handle.setPosition([0.5 , 2.  , 0.86])\n",
    "hammer_head.setRelativePosition([0.125, 0.0, 0.0])\n"
   ]
  },
  {
   "cell_type": "code",
   "execution_count": 30,
   "id": "21dca016-228c-4cd9-ad48-724df81c2fde",
   "metadata": {},
   "outputs": [
    {
     "data": {
      "text/plain": [
       "0"
      ]
     },
     "execution_count": 30,
     "metadata": {},
     "output_type": "execute_result"
    }
   ],
   "source": [
    "C.view()"
   ]
  },
  {
   "cell_type": "code",
   "execution_count": 31,
   "id": "fa20176e-3b1b-48e2-87e7-f941873f3faa",
   "metadata": {},
   "outputs": [
    {
     "data": {
      "text/plain": [
       "<robotic._robotic.Frame at 0x7f504196f0b0>"
      ]
     },
     "execution_count": 31,
     "metadata": {},
     "output_type": "execute_result"
    }
   ],
   "source": [
    "hammer_handle.setRelativeQuaternion([1, 0, 0.0, 0.5])\n"
   ]
  },
  {
   "cell_type": "code",
   "execution_count": 32,
   "id": "50d07c9d-5db4-4bd0-8962-405aab5f2c18",
   "metadata": {},
   "outputs": [
    {
     "data": {
      "text/plain": [
       "0"
      ]
     },
     "execution_count": 32,
     "metadata": {},
     "output_type": "execute_result"
    }
   ],
   "source": [
    "C.view()"
   ]
  },
  {
   "cell_type": "markdown",
   "id": "1bd51c60-fe89-4a70-bbf3-7b6351baa139",
   "metadata": {},
   "source": [
    "### State 2"
   ]
  },
  {
   "cell_type": "code",
   "execution_count": 33,
   "id": "dc9a504c-912f-4372-959e-2d97673f06da",
   "metadata": {},
   "outputs": [
    {
     "data": {
      "text/plain": [
       "array([2.   , 0.   , 0.385])"
      ]
     },
     "execution_count": 33,
     "metadata": {},
     "output_type": "execute_result"
    }
   ],
   "source": [
    "C.getFrame(\"table1\").getPosition()"
   ]
  },
  {
   "cell_type": "code",
   "execution_count": 34,
   "id": "7650b2e4-92aa-4e97-b137-1a75fe7653c5",
   "metadata": {},
   "outputs": [
    {
     "data": {
      "text/plain": [
       "<robotic._robotic.Frame at 0x7f50418f4f30>"
      ]
     },
     "execution_count": 34,
     "metadata": {},
     "output_type": "execute_result"
    }
   ],
   "source": [
    "tray.setPosition([2.   , 0.   , 0.385*2 + tray.getSize()[2]*0.5])"
   ]
  },
  {
   "cell_type": "code",
   "execution_count": 35,
   "id": "6220d119-d4c4-48c1-9d81-c64dbe877fed",
   "metadata": {},
   "outputs": [
    {
     "data": {
      "text/plain": [
       "array([0.4 , 0.4 , 0.05, 0.02])"
      ]
     },
     "execution_count": 35,
     "metadata": {},
     "output_type": "execute_result"
    }
   ],
   "source": [
    "tray.getSize()"
   ]
  },
  {
   "cell_type": "code",
   "execution_count": 36,
   "id": "0609227e-75c0-4cc7-815f-76a145ca52cc",
   "metadata": {},
   "outputs": [
    {
     "data": {
      "text/plain": [
       "0"
      ]
     },
     "execution_count": 36,
     "metadata": {},
     "output_type": "execute_result"
    }
   ],
   "source": [
    "C.view()"
   ]
  },
  {
   "cell_type": "code",
   "execution_count": 25,
   "id": "692582e8-6142-4234-9b99-1043df016f87",
   "metadata": {},
   "outputs": [
    {
     "data": {
      "text/plain": [
       "<robotic._robotic.Frame at 0x7f66914754f0>"
      ]
     },
     "execution_count": 25,
     "metadata": {},
     "output_type": "execute_result"
    }
   ],
   "source": [
    "mug.setPosition([2.1   , 0.   , 0.385*2 + tray.getSize()[2] + mug.getSize()[2]*0.5])"
   ]
  },
  {
   "cell_type": "code",
   "execution_count": 37,
   "id": "962b91f6-5c4f-435b-a449-e38d16590bb4",
   "metadata": {},
   "outputs": [
    {
     "data": {
      "text/plain": [
       "0"
      ]
     },
     "execution_count": 37,
     "metadata": {},
     "output_type": "execute_result"
    }
   ],
   "source": [
    "C.view()\n",
    "\n"
   ]
  },
  {
   "cell_type": "code",
   "execution_count": 27,
   "id": "9dc87d24-bd06-41ff-9adb-835c2efe8d64",
   "metadata": {},
   "outputs": [
    {
     "data": {
      "text/plain": [
       "array([0.05, 0.05, 0.2 , 0.01])"
      ]
     },
     "execution_count": 27,
     "metadata": {},
     "output_type": "execute_result"
    }
   ],
   "source": [
    "mug.getSize()"
   ]
  },
  {
   "cell_type": "code",
   "execution_count": 38,
   "id": "fff96b42-dc6f-49cf-8bb1-26c25611d06c",
   "metadata": {},
   "outputs": [
    {
     "data": {
      "text/plain": [
       "<robotic._robotic.Frame at 0x7f504196f0b0>"
      ]
     },
     "execution_count": 38,
     "metadata": {},
     "output_type": "execute_result"
    }
   ],
   "source": [
    "hammer_handle.setPosition([1.9 , -0.08  , 0.385*2 + tray.getSize()[2] + hammer_handle.getSize()[2]*0.5])\n",
    "hammer_handle.setRelativeQuaternion([1, 0, 0.0, 2.9])\n"
   ]
  },
  {
   "cell_type": "code",
   "execution_count": 39,
   "id": "a608d895-d0ce-4717-913e-e247d3ddc595",
   "metadata": {},
   "outputs": [
    {
     "data": {
      "text/plain": [
       "0"
      ]
     },
     "execution_count": 39,
     "metadata": {},
     "output_type": "execute_result"
    }
   ],
   "source": [
    "C.view()"
   ]
  },
  {
   "cell_type": "code",
   "execution_count": 30,
   "id": "7349b080-8885-4461-b383-1bfa6ca5bd41",
   "metadata": {},
   "outputs": [
    {
     "data": {
      "text/plain": [
       "array([ 2.6 , -2.  ,  0.52])"
      ]
     },
     "execution_count": 30,
     "metadata": {},
     "output_type": "execute_result"
    }
   ],
   "source": [
    "mug.getRelativePosition() #PART D"
   ]
  },
  {
   "cell_type": "markdown",
   "id": "2091b61d-ea5a-4170-9d2f-8f5bdcf61eef",
   "metadata": {},
   "source": [
    "### Two Link Manipulator (Part 2)"
   ]
  },
  {
   "cell_type": "code",
   "execution_count": 46,
   "id": "bfd81cf3-642d-4691-baa9-d24446e2ed40",
   "metadata": {},
   "outputs": [
    {
     "data": {
      "text/plain": [
       "0"
      ]
     },
     "execution_count": 46,
     "metadata": {},
     "output_type": "execute_result"
    }
   ],
   "source": [
    "K = ry.Config()\n",
    "K.addFile(\"two_link_manipulator.g\")\n",
    "K.view()"
   ]
  },
  {
   "cell_type": "markdown",
   "id": "b79da94e-5d8c-4e01-9e3a-3b2376cac000",
   "metadata": {},
   "source": [
    "### PART B"
   ]
  },
  {
   "cell_type": "code",
   "execution_count": 49,
   "id": "c22c7544-7955-4a2d-8a7b-02ab9690ce74",
   "metadata": {},
   "outputs": [
    {
     "data": {
      "text/plain": [
       "<robotic._robotic.Frame at 0x7f500c77a470>"
      ]
     },
     "execution_count": 49,
     "metadata": {},
     "output_type": "execute_result"
    }
   ],
   "source": [
    "target = K.getFrame(\"target\")\n",
    "joint_angles = 2*np.pi * np.random.rand(3)\n",
    "\n",
    "\n",
    "def forward_kinematics(q):\n",
    "    q0 = -q[0]\n",
    "    q1 = -q[1]\n",
    "    y1 = -np.sin(q0)\n",
    "    z1 = np.cos(q0)\n",
    "    \n",
    "    y2 = -np.sin(q1)\n",
    "    z2 = np.cos(q1)\n",
    "    y1 = y1 + np.cos(q0)*y2 - np.sin(q0)*z2\n",
    "    z1 = z1 + np.sin(q0)*y2 + np.cos(q0)*z2\n",
    "    \n",
    "    return np.array([0,y1,z1])\n",
    "\n",
    "pos_target = forward_kinematics(joint_angles)\n",
    "\n",
    "target.setPosition(pos_target)\n",
    "K.setJointState(joint_angles)\n",
    "\n",
    "K.view()\n",
    "\n",
    "q = np.zeros(K.getJointDimension())\n",
    "K.setJointState(q)\n",
    "target.setPosition([0,0,0])"
   ]
  },
  {
   "cell_type": "markdown",
   "id": "b0add045-bf62-4606-ab4d-aa8a1e0529ff",
   "metadata": {},
   "source": [
    "### PART C "
   ]
  },
  {
   "cell_type": "code",
   "execution_count": 50,
   "id": "bc7ba520-746c-4864-8ce9-90c8e5fb0100",
   "metadata": {},
   "outputs": [],
   "source": [
    "def Jacobian(q):\n",
    "    q0 = q[0]\n",
    "    q1 = q[1]\n",
    "    y_q0 = -np.cos(q0) + np.sin(q0) * np.sin(q1) - np.cos(q0) * np.cos(q1)\n",
    "    y_q1 = -np.cos(q0) * np.cos(q1) + np.sin(q0) * np.sin(q1)\n",
    "    z_q0 = -np.sin(q0) -np.cos(q0) * np.sin(q1) - np.sin(q0) * np.cos(q1)\n",
    "    z_q1 = -np.sin(q0) * np.cos(q1) - np.cos(q0) * np.sin(q1)\n",
    "    return np.array([[y_q0, y_q1],[z_q0, z_q1]])"
   ]
  },
  {
   "cell_type": "code",
   "execution_count": 51,
   "id": "44cb3828-53a2-484e-b5b4-aae8abeac077",
   "metadata": {},
   "outputs": [
    {
     "name": "stdout",
     "output_type": "stream",
     "text": [
      "[[-0.01474768 -0.3868342 ]\n",
      " [-0.00604877  0.92214929]]\n"
     ]
    }
   ],
   "source": [
    "joint_angles = [1.95205226, 3.15753276, 0]\n",
    "J = Jacobian(joint_angles)\n",
    "print(J)"
   ]
  },
  {
   "cell_type": "markdown",
   "id": "6e0f35a9-bda8-4127-be3f-30bc00bca095",
   "metadata": {},
   "source": [
    "### PART 4"
   ]
  },
  {
   "cell_type": "code",
   "execution_count": 2,
   "id": "cc29c0d3-b259-4f1f-b075-92b59d7a06db",
   "metadata": {},
   "outputs": [
    {
     "data": {
      "text/plain": [
       "<robotic._robotic.Frame at 0x7f5084bf50b0>"
      ]
     },
     "execution_count": 2,
     "metadata": {},
     "output_type": "execute_result"
    }
   ],
   "source": [
    "CR = ry.Config()\n",
    "CR.addFile(\"maze.g\")\n",
    "CR.addFile(\"cargo.g\")\n",
    "CR.addFile(\"cargobot.g\")\n"
   ]
  },
  {
   "cell_type": "code",
   "execution_count": 3,
   "id": "0f90b54b-f822-4e86-a9a6-d431bea020bb",
   "metadata": {},
   "outputs": [
    {
     "data": {
      "text/plain": [
       "0"
      ]
     },
     "execution_count": 3,
     "metadata": {},
     "output_type": "execute_result"
    }
   ],
   "source": [
    "CR.view()"
   ]
  },
  {
   "cell_type": "code",
   "execution_count": 3,
   "id": "9e222ce8-75e9-4eb6-b018-5d8224514cdf",
   "metadata": {},
   "outputs": [],
   "source": [
    "S = ry.Skeleton()\n",
    "\n"
   ]
  },
  {
   "cell_type": "code",
   "execution_count": 4,
   "id": "c5640b94-a921-4128-8598-17645c28e38d",
   "metadata": {},
   "outputs": [
    {
     "data": {
      "text/plain": [
       "<robotic._robotic.Frame at 0x7f504196bf30>"
      ]
     },
     "execution_count": 4,
     "metadata": {},
     "output_type": "execute_result"
    }
   ],
   "source": [
    "cp11 = CR.addFrame(\"cp11\")\n",
    "cp11.setShape(type = ry.ST.marker, size = [0.3])                  \n",
    "cp11.setPosition([0, -3, 0.48])\n",
    "\n",
    "cp21 = CR.addFrame(\"cp21\")\n",
    "cp21.setShape(type = ry.ST.marker, size = [0.3])                  \n",
    "cp21.setPosition([4, 3, 0.48])\n",
    "\n",
    "cp22 = CR.addFrame(\"cp22\")\n",
    "cp22.setShape(type = ry.ST.marker, size = [0.3])                  \n",
    "cp22.setPosition([-2, -3, 0.48])"
   ]
  },
  {
   "cell_type": "code",
   "execution_count": 7,
   "id": "11fbea97-dadc-4567-85cf-ee07baec805c",
   "metadata": {},
   "outputs": [],
   "source": [
    "#S.addEntry([1.], ry.SY.topBoxGrasp, [\"l_gripper\", \"cargo_handle\"])\n",
    "\n",
    "S.addEntry([1., 1.], ry.SY.touch,  [\"l_gripper\", \"cargo_handle\"])\n",
    "S.addEntry([1., 1.5], ry.SY.stable, [\"l_gripper\", \"cargo_handle\"])\n",
    "S.addEntry([2.5, 3], ry.SY.positionEq, [\"base\", \"cp11\"])\n",
    "\n",
    "S.addEntry([3.5, 4], ry.SY.positionEq, [\"base\", \"cp1\"])\n",
    "\n",
    "S.addEntry([4.5, 5], ry.SY.positionEq, [\"base\", \"cp21\"])\n",
    "\n",
    "S.addEntry([5.5, 6], ry.SY.positionEq, [\"base\", \"cp2\"])\n",
    "\n",
    "S.addEntry([6.5, 7], ry.SY.positionEq, [\"base\", \"cp22\"])\n",
    "\n",
    "S.addEntry([7.5, 8], ry.SY.positionEq, [\"base\", \"final\"])\n",
    "\n",
    "S.addEntry([8, 10.5], ry.SY.poseEq, [\"cargo\", \"goal_area\"])\n",
    "\n",
    "#S.addEntry([0.8, 1.2], ry.SY.downUp, [\"l_gripper\"])\n",
    "#S.addEntry([1.8, 2.2], ry.SY.downUp, [\"l_gripper\"])#\n",
    "S.enableAccumulatedCollisions(False)"
   ]
  },
  {
   "cell_type": "markdown",
   "id": "19e3590f-20e3-4c37-8672-ba7d5dc3faa0",
   "metadata": {},
   "source": [
    "lenScale, homingScale, and collScale are parameters that are likely used for some kind of optimization or cost function. Here's a brief explanation of each:\n",
    "\n",
    "lenScale (Length Scale): This parameter is likely used to control the relative importance of the length or distance-related terms in the optimization. A higher value would mean that length-related terms have more influence on the optimization, while a lower value would reduce their impact.\n",
    "\n",
    "homingScale (Homing Scale): This parameter might be related to a \"homing\" behavior, which typically means returning to a specific position or configuration. It could control how strongly the algorithm prioritizes returning to a specific home position.\n",
    "\n",
    "collScale (Collision Scale): This parameter likely controls how much the optimization considers avoiding collisions. A higher value would mean that avoiding collisions is more important, while a lower value would reduce its importance."
   ]
  },
  {
   "cell_type": "code",
   "execution_count": 8,
   "id": "943ce05c-ceb2-496a-92eb-78210888fda8",
   "metadata": {},
   "outputs": [
    {
     "name": "stdout",
     "output_type": "stream",
     "text": [
      "{ time: 1.07812, evals: 115, done: 1, feasible: 0, sos: 83.2729, f: 0, ineq: 0, eq: 7680.02 }\n",
      "size of path: (315, 10)\n"
     ]
    },
    {
     "data": {
      "text/plain": [
       "True"
      ]
     },
     "execution_count": 8,
     "metadata": {},
     "output_type": "execute_result"
    }
   ],
   "source": [
    "## solve for waypoints: create a komo instance, create nlp instance, then call generic solver\n",
    "\n",
    "komo = S.getKomo_path(CR, stepsPerPhase=30, accScale=1e0, lenScale=1e-3, homingScale=0, collScale=1e0)\n",
    "\n",
    "ret = ry.NLP_Solver(komo.nlp(), verbose=0 ) .solve() ## WHAT IS NLP!! SOLVER?\n",
    "print(ret)\n",
    "q = komo.getPath();\n",
    "print('size of path:', q.shape)\n",
    "\n",
    "komo.view(False, \"result\")\n",
    "komo.view_play(True, .5)\n"
   ]
  }
 ],
 "metadata": {
  "kernelspec": {
   "display_name": "Python 3 (ipykernel)",
   "language": "python",
   "name": "python3"
  },
  "language_info": {
   "codemirror_mode": {
    "name": "ipython",
    "version": 3
   },
   "file_extension": ".py",
   "mimetype": "text/x-python",
   "name": "python",
   "nbconvert_exporter": "python",
   "pygments_lexer": "ipython3",
   "version": "3.8.10"
  }
 },
 "nbformat": 4,
 "nbformat_minor": 5
}
