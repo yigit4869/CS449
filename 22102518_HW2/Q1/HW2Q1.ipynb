{
 "cells": [
  {
   "cell_type": "code",
   "execution_count": 1,
   "metadata": {},
   "outputs": [],
   "source": [
    "import robotic as ry\n",
    "import numpy as np\n",
    "import time"
   ]
  },
  {
   "cell_type": "markdown",
   "metadata": {},
   "source": [
    "# Part A"
   ]
  },
  {
   "cell_type": "code",
   "execution_count": 2,
   "metadata": {},
   "outputs": [
    {
     "data": {
      "text/plain": [
       "0"
      ]
     },
     "execution_count": 2,
     "metadata": {},
     "output_type": "execute_result"
    }
   ],
   "source": [
    "C = ry.Config()\n",
    "C.addFile(\"Gfiles-HW2/Question-01/environment/cargobot.g\")\n",
    "C.addFile(\"Gfiles-HW2/Question-01/environment/cargo.g\")\n",
    "C.addFile(\"Gfiles-HW2/Question-01/environment/maze.g\")\n",
    "C.view()"
   ]
  },
  {
   "cell_type": "code",
   "execution_count": 3,
   "metadata": {},
   "outputs": [],
   "source": [
    "# Get and set the home joint configuration\n",
    "qHome_first = C.getJointState()\n",
    "C.setJointState(qHome_first)"
   ]
  },
  {
   "cell_type": "code",
   "execution_count": 4,
   "metadata": {},
   "outputs": [],
   "source": [
    "# Initialize KOMO with 1 phase, 10 steps, and a 2-second duration\n",
    "komo1 = ry.KOMO(C, 2, 10, 2, False)"
   ]
  },
  {
   "cell_type": "code",
   "execution_count": 5,
   "metadata": {},
   "outputs": [
    {
     "data": {
      "text/plain": [
       "<robotic._robotic.KOMO_Objective at 0x7f2a955290f0>"
      ]
     },
     "execution_count": 5,
     "metadata": {},
     "output_type": "execute_result"
    }
   ],
   "source": [
    "# Define control objectives for movement smoothness and speed\n",
    "komo1.addControlObjective([], 0, 1e-1)\n",
    "komo1.addControlObjective([], 2, 1e0)"
   ]
  },
  {
   "cell_type": "code",
   "execution_count": 6,
   "metadata": {},
   "outputs": [],
   "source": [
    "# Set objectives to approach, position, and orient the gripper relative to the cargo\n",
    "komo1.addObjective([1], ry.FS.positionDiff, ['l_panda_base', 'cargo'], ry.OT.eq, [1e1])\n",
    "komo1.addObjective([2], ry.FS.positionDiff, ['l_gripper', 'cargo_handle'], ry.OT.eq, [1e1])\n",
    "komo1.addObjective([2], ry.FS.vectorZ, ['l_gripper'], ry.OT.eq, [1e1], [0, 0, 1])"
   ]
  },
  {
   "cell_type": "code",
   "execution_count": 7,
   "metadata": {},
   "outputs": [],
   "source": [
    "# Apply joint limits constraint\n",
    "komo1.addObjective([], ry.FS.jointLimits, [], ry.OT.ineq, [1e1])"
   ]
  },
  {
   "cell_type": "code",
   "execution_count": 8,
   "metadata": {},
   "outputs": [
    {
     "name": "stdout",
     "output_type": "stream",
     "text": [
      "{ time: 0.015625, evals: 28, done: 1, feasible: 0, sos: 19.065, f: 0, ineq: 0, eq: 0.700581 }\n",
      "size of path: (20, 10)\n"
     ]
    }
   ],
   "source": [
    "# Solve the KOMO problem and retrieve the path\n",
    "ret = ry.NLP_Solver(komo1.nlp(), verbose=0).solve()\n",
    "print(ret)\n",
    "\n",
    "q1 = komo1.getPath()\n",
    "print('size of path:', q1.shape)\n",
    "\n",
    "# Visualize each waypoint in the computed trajectory\n",
    "for t in range(q1.shape[0]):\n",
    "    C.setJointState(q1[t])\n",
    "    C.view(False, f'waypoint {t}')\n",
    "    time.sleep(0.1)"
   ]
  },
  {
   "cell_type": "code",
   "execution_count": 9,
   "metadata": {},
   "outputs": [
    {
     "name": "stdout",
     "output_type": "stream",
     "text": [
      "penetration: 0.0\n"
     ]
    }
   ],
   "source": [
    "\n",
    "partajs = q1[-1]\n",
    "print(\"penetration:\", C.getCollisionsTotalPenetration())"
   ]
  },
  {
   "cell_type": "markdown",
   "metadata": {},
   "source": [
    "### PART B"
   ]
  },
  {
   "cell_type": "code",
   "execution_count": 10,
   "metadata": {},
   "outputs": [],
   "source": [
    "# Start Task 2 from the end state of Task 1\n",
    "C.setJointState(partajs)\n"
   ]
  },
  {
   "cell_type": "code",
   "execution_count": 11,
   "metadata": {},
   "outputs": [],
   "source": [
    "# Attach the cargo to the gripper for transport\n",
    "C.attach(\"l_gripper\", \"cargo\")"
   ]
  },
  {
   "cell_type": "code",
   "execution_count": 12,
   "metadata": {},
   "outputs": [],
   "source": [
    "# Set up KOMO for Task 2 with similar parameters as Task 1\n",
    "komo2 = ry.KOMO(C, 2, 10, 2, False)"
   ]
  },
  {
   "cell_type": "code",
   "execution_count": 13,
   "metadata": {},
   "outputs": [
    {
     "data": {
      "text/plain": [
       "<robotic._robotic.KOMO_Objective at 0x7f2a95506730>"
      ]
     },
     "execution_count": 13,
     "metadata": {},
     "output_type": "execute_result"
    }
   ],
   "source": [
    "# Control objectives for smooth and controlled motion\n",
    "komo2.addControlObjective([], 0, 1e-1)\n",
    "komo2.addControlObjective([], 2, 1e0)"
   ]
  },
  {
   "cell_type": "code",
   "execution_count": 14,
   "metadata": {},
   "outputs": [],
   "source": [
    "# Objective to transport cargo to goal area and align orientation\n",
    "komo2.addObjective([2], ry.FS.positionDiff, ['cargo', 'goal_area'], ry.OT.eq, [1e1])\n",
    "komo2.addObjective([2], ry.FS.vectorZ, ['l_gripper'], ry.OT.eq, [1e1], [0, 0, 1])"
   ]
  },
  {
   "cell_type": "code",
   "execution_count": 15,
   "metadata": {},
   "outputs": [],
   "source": [
    "# Joint limits to avoid collisions and ensure safety\n",
    "komo2.addObjective([], ry.FS.jointLimits, [], ry.OT.ineq, [1e1])"
   ]
  },
  {
   "cell_type": "code",
   "execution_count": 16,
   "metadata": {},
   "outputs": [
    {
     "name": "stdout",
     "output_type": "stream",
     "text": [
      "{ time: 0, evals: 36, done: 1, feasible: 1, sos: 15.7217, f: 0, ineq: 0, eq: 5.79615e-05 }\n",
      "Size of path: (20, 10)\n"
     ]
    }
   ],
   "source": [
    "# Solve Task 2 and retrieve the path\n",
    "ret2 = ry.NLP_Solver(komo2.nlp(), verbose=0).solve()\n",
    "print(ret2)\n",
    "\n",
    "q2 = komo2.getPath()\n",
    "print('Size of path:', q2.shape)"
   ]
  },
  {
   "cell_type": "code",
   "execution_count": 17,
   "metadata": {},
   "outputs": [],
   "source": [
    "# Display each waypoint in the path to ensure it is collision-free\n",
    "for t in range(q2.shape[0]):\n",
    "    C.setJointState(q2[t])\n",
    "    C.view(False, f'waypoint {t}')\n",
    "    time.sleep(0.1)"
   ]
  },
  {
   "cell_type": "code",
   "execution_count": 18,
   "metadata": {},
   "outputs": [
    {
     "name": "stdout",
     "output_type": "stream",
     "text": [
      "Penetration: 0.0\n"
     ]
    },
    {
     "data": {
      "text/plain": [
       "<robotic._robotic.Frame at 0x7f2a955211f0>"
      ]
     },
     "execution_count": 18,
     "metadata": {},
     "output_type": "execute_result"
    }
   ],
   "source": [
    "# Final state and detach the cargo\n",
    "task2js = q2[-1]\n",
    "print(\"Penetration:\", C.getCollisionsTotalPenetration())\n",
    "C.getFrame(\"cargo\").unLink()"
   ]
  },
  {
   "cell_type": "markdown",
   "metadata": {},
   "source": [
    "# Part B"
   ]
  },
  {
   "cell_type": "markdown",
   "metadata": {},
   "source": [
    "## Cargo Movement"
   ]
  },
  {
   "cell_type": "code",
   "execution_count": 19,
   "metadata": {},
   "outputs": [
    {
     "name": "stdout",
     "output_type": "stream",
     "text": [
      "{ time: 0.1875, evals: 4171, done: 1, feasible: 1, sos: -1, f: -1, ineq: -1, eq: -1 }\n"
     ]
    }
   ],
   "source": [
    "C = ry.Config()\n",
    "C.addFile(\"Gfiles-HW2/Question-01/environment/cargobot.g\")\n",
    "C.addFile(\"Gfiles-HW2/Question-01/environment/cargo.g\")\n",
    "C.addFile(\"Gfiles-HW2/Question-01/environment/maze.g\")\n",
    "rrt = ry.PathFinder()\n",
    "rrt.setProblem(C, [qHome_first], [partajs])\n",
    "ret = rrt.solve()\n",
    "print(ret)\n",
    "pathCargo = ret.x\n",
    "for t in range(0, pathCargo.shape[0]-1):\n",
    "    C.setJointState(pathCargo[t])\n",
    "    C.view()\n",
    "    time.sleep(.1)"
   ]
  },
  {
   "cell_type": "markdown",
   "metadata": {},
   "source": [
    "## To the Goal Movement"
   ]
  },
  {
   "cell_type": "code",
   "execution_count": 20,
   "metadata": {},
   "outputs": [
    {
     "name": "stdout",
     "output_type": "stream",
     "text": [
      "{ time: 0.0625, evals: 726, done: 1, feasible: 1, sos: -1, f: -1, ineq: -1, eq: -1 }\n"
     ]
    }
   ],
   "source": [
    "C.attach(\"l_gripper\", \"cargo\")\n",
    "rrt2 = ry.PathFinder()\n",
    "rrt2.setProblem(C, [partajs], [task2js])\n",
    "ret = rrt2.solve()\n",
    "print(ret)\n",
    "pathGoal = ret.x\n",
    "for t in range(0, pathGoal.shape[0]-1):\n",
    "    C.setJointState(pathGoal[t])\n",
    "    C.view()\n",
    "    time.sleep(.1)"
   ]
  },
  {
   "cell_type": "markdown",
   "metadata": {},
   "source": [
    "# Part C"
   ]
  },
  {
   "cell_type": "code",
   "execution_count": 42,
   "metadata": {},
   "outputs": [],
   "source": [
    "C = ry.Config()"
   ]
  },
  {
   "cell_type": "code",
   "execution_count": 43,
   "metadata": {},
   "outputs": [
    {
     "data": {
      "text/plain": [
       "<robotic._robotic.Frame at 0x7f2a5b043fb0>"
      ]
     },
     "execution_count": 43,
     "metadata": {},
     "output_type": "execute_result"
    }
   ],
   "source": [
    "C.addFile(\"Gfiles-HW2/Question-01/environment/cargobot.g\")\n",
    "C.addFile(\"Gfiles-HW2/Question-01/environment/cargo.g\")\n",
    "C.addFile(\"Gfiles-HW2/Question-01/environment/maze.g\")"
   ]
  },
  {
   "cell_type": "code",
   "execution_count": 44,
   "metadata": {},
   "outputs": [
    {
     "data": {
      "text/plain": [
       "0"
      ]
     },
     "execution_count": 44,
     "metadata": {},
     "output_type": "execute_result"
    }
   ],
   "source": [
    "C.view()"
   ]
  },
  {
   "cell_type": "code",
   "execution_count": 45,
   "metadata": {},
   "outputs": [],
   "source": [
    "time.sleep(2)"
   ]
  },
  {
   "cell_type": "code",
   "execution_count": 46,
   "metadata": {},
   "outputs": [],
   "source": [
    "for t in range(0, pathCargo.shape[0]-1):\n",
    "    C.setJointState(pathCargo[t])\n",
    "    C.view()\n",
    "    time.sleep(.1)\n",
    "C.attach(\"l_gripper\", \"cargo\")"
   ]
  },
  {
   "cell_type": "code",
   "execution_count": 47,
   "metadata": {},
   "outputs": [
    {
     "data": {
      "text/plain": [
       "0"
      ]
     },
     "execution_count": 47,
     "metadata": {},
     "output_type": "execute_result"
    }
   ],
   "source": [
    "for t in range(0, pathGoal.shape[0]-1):\n",
    "    C.setJointState(pathGoal[t])\n",
    "    C.view()\n",
    "    time.sleep(.1)\n",
    "C.getFrame(\"cargo\").unLink()\n",
    "C.view()"
   ]
  },
  {
   "cell_type": "code",
   "execution_count": null,
   "metadata": {},
   "outputs": [],
   "source": []
  },
  {
   "cell_type": "code",
   "execution_count": null,
   "metadata": {},
   "outputs": [],
   "source": []
  }
 ],
 "metadata": {
  "kernelspec": {
   "display_name": "Python 3 (ipykernel)",
   "language": "python",
   "name": "python3"
  },
  "language_info": {
   "codemirror_mode": {
    "name": "ipython",
    "version": 3
   },
   "file_extension": ".py",
   "mimetype": "text/x-python",
   "name": "python",
   "nbconvert_exporter": "python",
   "pygments_lexer": "ipython3",
   "version": "3.8.10"
  }
 },
 "nbformat": 4,
 "nbformat_minor": 4
}
