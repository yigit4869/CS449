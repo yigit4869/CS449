{
 "cells": [
  {
   "cell_type": "code",
   "execution_count": 1,
   "id": "8ae25be6-1688-4efc-ac1b-8eedaea8a930",
   "metadata": {},
   "outputs": [],
   "source": [
    "import robotic as ry\n",
    "import numpy as np"
   ]
  },
  {
   "cell_type": "code",
   "execution_count": 2,
   "id": "3b4d0a96-d15f-4002-90f5-1470583d6e3a",
   "metadata": {},
   "outputs": [
    {
     "data": {
      "text/plain": [
       "<robotic._robotic.Frame at 0x7f1d242135f0>"
      ]
     },
     "execution_count": 2,
     "metadata": {},
     "output_type": "execute_result"
    }
   ],
   "source": [
    "C = ry.Config()\n",
    "\n",
    "C.addFile(\"Gfiles-HW2/mini_golf.g\")"
   ]
  },
  {
   "cell_type": "code",
   "execution_count": 3,
   "id": "1ad55190-6283-4609-95cd-a02b0f591bdf",
   "metadata": {},
   "outputs": [],
   "source": [
    "bot = ry.BotOp(C, useRealRobot=False)\n"
   ]
  },
  {
   "cell_type": "code",
   "execution_count": 4,
   "id": "32d581c7-f081-4782-9185-9bef22629423",
   "metadata": {},
   "outputs": [
    {
     "name": "stdout",
     "output_type": "stream",
     "text": [
      "[ 0.  -0.5  0.  -2.   0.   2.  -0.5] [ 0.  -0.3  0.  -2.   0.   2.  -0.5]\n"
     ]
    }
   ],
   "source": [
    "qHome = bot.get_qHome()\n",
    "q0 = qHome.copy()\n",
    "q1 = q0.copy()\n",
    "q1[1] = q1[1] + .2\n",
    "print(q0, q1)"
   ]
  },
  {
   "cell_type": "code",
   "execution_count": 5,
   "id": "023b213e-3360-41ab-9507-aa3d148c4321",
   "metadata": {},
   "outputs": [],
   "source": [
    "q1 = q0.copy()\n",
    "q1[1] +=  + 1.35 #1.35, 1.40 then 1.42\n",
    "q1[2] = 0.8\n",
    "q1[5] += 0.2\n",
    "q1[6] -= 0.9"
   ]
  },
  {
   "cell_type": "code",
   "execution_count": 6,
   "id": "a0e264c8-7145-4cdc-b9db-3c24d2b1343c",
   "metadata": {},
   "outputs": [],
   "source": [
    "bot.moveTo(q1)\n",
    "\n",
    "while bot.getTimeToEnd()>0:\n",
    "    bot.sync(C, .1)"
   ]
  },
  {
   "cell_type": "code",
   "execution_count": 7,
   "id": "77ce5fbd-05c1-4055-847a-57a7f7ca5a63",
   "metadata": {},
   "outputs": [],
   "source": [
    "q1[1] += 0.05"
   ]
  },
  {
   "cell_type": "code",
   "execution_count": 8,
   "id": "cb0fbb9f-ad69-469a-ae9c-2a7e9aa686a5",
   "metadata": {},
   "outputs": [],
   "source": [
    "bot.moveTo(q1)\n",
    "\n",
    "while bot.getTimeToEnd()>0:\n",
    "    bot.sync(C, .1)"
   ]
  },
  {
   "cell_type": "code",
   "execution_count": 9,
   "id": "0ae6b706-6915-462d-afb0-cdc697a10979",
   "metadata": {},
   "outputs": [],
   "source": [
    "q1[1] += 0.02"
   ]
  },
  {
   "cell_type": "code",
   "execution_count": 10,
   "id": "14f9e0db-f8b3-410f-a076-404a49f1c231",
   "metadata": {},
   "outputs": [],
   "source": [
    "bot.moveTo(q1)\n",
    "\n",
    "while bot.getTimeToEnd()>0:\n",
    "    bot.sync(C, .1)"
   ]
  },
  {
   "cell_type": "code",
   "execution_count": 11,
   "id": "92ea988d-f902-4863-bb13-06891d1e14cc",
   "metadata": {},
   "outputs": [],
   "source": [
    "bot.gripperMove(ry._left, width=.01, speed=.2)\n",
    "\n",
    "while not bot.gripperDone(ry._left):\n",
    "    bot.sync(C, .1)"
   ]
  },
  {
   "cell_type": "code",
   "execution_count": 12,
   "id": "adc9c0d9-d5fa-45d8-a534-a604add97372",
   "metadata": {},
   "outputs": [],
   "source": [
    "q2 = q1.copy()\n",
    "q2[1] += -0.25\n"
   ]
  },
  {
   "cell_type": "code",
   "execution_count": null,
   "id": "161a2075-14c6-43be-94d6-1229581bb708",
   "metadata": {},
   "outputs": [],
   "source": [
    "bot.moveTo(q2)\n",
    "\n",
    "while bot.getTimeToEnd()>0:\n",
    "    bot.sync(C, .1)"
   ]
  },
  {
   "cell_type": "code",
   "execution_count": null,
   "id": "084cfda5-1c63-4c98-8226-c5b7630c1580",
   "metadata": {},
   "outputs": [],
   "source": [
    "q2[4] += 0.45 # try this first  1 "
   ]
  },
  {
   "cell_type": "code",
   "execution_count": null,
   "id": "0c2e510b-539a-4581-b455-ac8d6c93f95e",
   "metadata": {},
   "outputs": [],
   "source": [
    "bot.moveTo(q2)\n",
    "\n",
    "while bot.getTimeToEnd()>0:\n",
    "    bot.sync(C, .1)\n",
    "#bot.moveTo(q0)"
   ]
  },
  {
   "cell_type": "code",
   "execution_count": null,
   "id": "bfeeb1c2-7ba9-4547-b3b9-bacd0475cec0",
   "metadata": {},
   "outputs": [],
   "source": [
    "q2[0] += +0.5 # then this 2"
   ]
  },
  {
   "cell_type": "code",
   "execution_count": null,
   "id": "2a355cae-abfb-4dd4-b0ca-2add14cf3e30",
   "metadata": {},
   "outputs": [],
   "source": [
    "bot.moveTo(q2)\n",
    "\n",
    "while bot.getTimeToEnd()>0:\n",
    "    bot.sync(C, .1)\n",
    "#bot.moveTo(q0)"
   ]
  },
  {
   "cell_type": "code",
   "execution_count": null,
   "id": "8ca25631-262b-4d8a-aa49-4c8c2b1a6fbc",
   "metadata": {},
   "outputs": [],
   "source": [
    "q2[0] += -2.0 # then this 3"
   ]
  },
  {
   "cell_type": "code",
   "execution_count": null,
   "id": "ed2e8ed0-32f8-4583-998e-63ff6ced62e2",
   "metadata": {},
   "outputs": [],
   "source": [
    "bot.moveTo(q2)\n",
    "\n",
    "while bot.getTimeToEnd()>0:\n",
    "    bot.sync(C, .1)\n",
    "#bot.moveTo(q0)"
   ]
  },
  {
   "cell_type": "code",
   "execution_count": null,
   "id": "2b11b23d-030a-4f40-8106-a238e2205e3a",
   "metadata": {},
   "outputs": [],
   "source": [
    "del bot\n",
    "del C"
   ]
  },
  {
   "cell_type": "code",
   "execution_count": null,
   "id": "0787de21-0794-49d1-98a5-89e592a95e10",
   "metadata": {},
   "outputs": [],
   "source": []
  }
 ],
 "metadata": {
  "kernelspec": {
   "display_name": "Python 3 (ipykernel)",
   "language": "python",
   "name": "python3"
  },
  "language_info": {
   "codemirror_mode": {
    "name": "ipython",
    "version": 3
   },
   "file_extension": ".py",
   "mimetype": "text/x-python",
   "name": "python",
   "nbconvert_exporter": "python",
   "pygments_lexer": "ipython3",
   "version": "3.8.10"
  }
 },
 "nbformat": 4,
 "nbformat_minor": 5
}
